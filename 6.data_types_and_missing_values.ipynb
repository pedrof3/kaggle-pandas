{
 "cells": [
  {
   "cell_type": "code",
   "execution_count": 1,
   "id": "d1684acc",
   "metadata": {},
   "outputs": [],
   "source": [
    "import pandas as pd"
   ]
  },
  {
   "cell_type": "markdown",
   "id": "dba7e925",
   "metadata": {},
   "source": [
    "## Dtypes"
   ]
  },
  {
   "cell_type": "code",
   "execution_count": 2,
   "id": "c8b66af2",
   "metadata": {},
   "outputs": [],
   "source": [
    "pizza_sales = pd.read_csv('datasets/pizza_sales.csv', index_col=0)"
   ]
  },
  {
   "cell_type": "code",
   "execution_count": 3,
   "id": "50b29044",
   "metadata": {},
   "outputs": [
    {
     "data": {
      "text/plain": [
       "Index(['order_id', 'pizza_name_id', 'quantity', 'order_date', 'order_time',\n",
       "       'unit_price', 'total_price', 'pizza_size', 'pizza_category',\n",
       "       'pizza_ingredients', 'pizza_name'],\n",
       "      dtype='object')"
      ]
     },
     "execution_count": 3,
     "metadata": {},
     "output_type": "execute_result"
    }
   ],
   "source": [
    "pizza_sales.columns"
   ]
  },
  {
   "cell_type": "code",
   "execution_count": 4,
   "id": "191ec297",
   "metadata": {},
   "outputs": [
    {
     "data": {
      "text/plain": [
       "order_id             float64\n",
       "pizza_name_id         object\n",
       "quantity             float64\n",
       "order_date            object\n",
       "order_time            object\n",
       "unit_price           float64\n",
       "total_price          float64\n",
       "pizza_size            object\n",
       "pizza_category        object\n",
       "pizza_ingredients     object\n",
       "pizza_name            object\n",
       "dtype: object"
      ]
     },
     "execution_count": 4,
     "metadata": {},
     "output_type": "execute_result"
    }
   ],
   "source": [
    "pizza_sales.dtypes"
   ]
  },
  {
   "cell_type": "code",
   "execution_count": 5,
   "id": "88c4a75e",
   "metadata": {},
   "outputs": [
    {
     "data": {
      "text/plain": [
       "dtype('float64')"
      ]
     },
     "execution_count": 5,
     "metadata": {},
     "output_type": "execute_result"
    }
   ],
   "source": [
    "pizza_sales.index.dtype"
   ]
  },
  {
   "cell_type": "markdown",
   "id": "caada0bb",
   "metadata": {},
   "source": [
    "## Missing data"
   ]
  },
  {
   "cell_type": "code",
   "execution_count": 6,
   "id": "d2315f43",
   "metadata": {},
   "outputs": [
    {
     "data": {
      "text/html": [
       "<div>\n",
       "<style scoped>\n",
       "    .dataframe tbody tr th:only-of-type {\n",
       "        vertical-align: middle;\n",
       "    }\n",
       "\n",
       "    .dataframe tbody tr th {\n",
       "        vertical-align: top;\n",
       "    }\n",
       "\n",
       "    .dataframe thead th {\n",
       "        text-align: right;\n",
       "    }\n",
       "</style>\n",
       "<table border=\"1\" class=\"dataframe\">\n",
       "  <thead>\n",
       "    <tr style=\"text-align: right;\">\n",
       "      <th></th>\n",
       "      <th>order_id</th>\n",
       "      <th>pizza_name_id</th>\n",
       "      <th>quantity</th>\n",
       "      <th>order_date</th>\n",
       "      <th>order_time</th>\n",
       "      <th>unit_price</th>\n",
       "      <th>total_price</th>\n",
       "      <th>pizza_size</th>\n",
       "      <th>pizza_category</th>\n",
       "      <th>pizza_ingredients</th>\n",
       "      <th>pizza_name</th>\n",
       "    </tr>\n",
       "    <tr>\n",
       "      <th>pizza_id</th>\n",
       "      <th></th>\n",
       "      <th></th>\n",
       "      <th></th>\n",
       "      <th></th>\n",
       "      <th></th>\n",
       "      <th></th>\n",
       "      <th></th>\n",
       "      <th></th>\n",
       "      <th></th>\n",
       "      <th></th>\n",
       "      <th></th>\n",
       "    </tr>\n",
       "  </thead>\n",
       "  <tbody>\n",
       "    <tr>\n",
       "      <th>1.0</th>\n",
       "      <td>1.0</td>\n",
       "      <td>hawaiian_m</td>\n",
       "      <td>1.0</td>\n",
       "      <td>1/1/2015</td>\n",
       "      <td>11:38:36</td>\n",
       "      <td>13.25</td>\n",
       "      <td>13.25</td>\n",
       "      <td>M</td>\n",
       "      <td>Classic</td>\n",
       "      <td>Sliced Ham, Pineapple, Mozzarella Cheese</td>\n",
       "      <td>The Hawaiian Pizza</td>\n",
       "    </tr>\n",
       "    <tr>\n",
       "      <th>2.0</th>\n",
       "      <td>2.0</td>\n",
       "      <td>classic_dlx_m</td>\n",
       "      <td>1.0</td>\n",
       "      <td>1/1/2015</td>\n",
       "      <td>11:57:40</td>\n",
       "      <td>16.00</td>\n",
       "      <td>16.00</td>\n",
       "      <td>M</td>\n",
       "      <td>Classic</td>\n",
       "      <td>Pepperoni, Mushrooms, Red Onions, Red Peppers,...</td>\n",
       "      <td>The Classic Deluxe Pizza</td>\n",
       "    </tr>\n",
       "    <tr>\n",
       "      <th>3.0</th>\n",
       "      <td>2.0</td>\n",
       "      <td>five_cheese_l</td>\n",
       "      <td>1.0</td>\n",
       "      <td>1/1/2015</td>\n",
       "      <td>11:57:40</td>\n",
       "      <td>18.50</td>\n",
       "      <td>18.50</td>\n",
       "      <td>L</td>\n",
       "      <td>Veggie</td>\n",
       "      <td>Mozzarella Cheese, Provolone Cheese, Smoked Go...</td>\n",
       "      <td>The Five Cheese Pizza</td>\n",
       "    </tr>\n",
       "    <tr>\n",
       "      <th>4.0</th>\n",
       "      <td>2.0</td>\n",
       "      <td>ital_supr_l</td>\n",
       "      <td>1.0</td>\n",
       "      <td>1/1/2015</td>\n",
       "      <td>11:57:40</td>\n",
       "      <td>20.75</td>\n",
       "      <td>20.75</td>\n",
       "      <td>L</td>\n",
       "      <td>Supreme</td>\n",
       "      <td>Calabrese Salami, Capocollo, Tomatoes, Red Oni...</td>\n",
       "      <td>The Italian Supreme Pizza</td>\n",
       "    </tr>\n",
       "    <tr>\n",
       "      <th>5.0</th>\n",
       "      <td>2.0</td>\n",
       "      <td>mexicana_m</td>\n",
       "      <td>1.0</td>\n",
       "      <td>1/1/2015</td>\n",
       "      <td>11:57:40</td>\n",
       "      <td>16.00</td>\n",
       "      <td>16.00</td>\n",
       "      <td>M</td>\n",
       "      <td>Veggie</td>\n",
       "      <td>Tomatoes, Red Peppers, Jalapeno Peppers, Red O...</td>\n",
       "      <td>The Mexicana Pizza</td>\n",
       "    </tr>\n",
       "    <tr>\n",
       "      <th>...</th>\n",
       "      <td>...</td>\n",
       "      <td>...</td>\n",
       "      <td>...</td>\n",
       "      <td>...</td>\n",
       "      <td>...</td>\n",
       "      <td>...</td>\n",
       "      <td>...</td>\n",
       "      <td>...</td>\n",
       "      <td>...</td>\n",
       "      <td>...</td>\n",
       "      <td>...</td>\n",
       "    </tr>\n",
       "    <tr>\n",
       "      <th>48616.0</th>\n",
       "      <td>21348.0</td>\n",
       "      <td>ckn_alfredo_m</td>\n",
       "      <td>1.0</td>\n",
       "      <td>31-12-2015</td>\n",
       "      <td>21:23:10</td>\n",
       "      <td>16.75</td>\n",
       "      <td>16.75</td>\n",
       "      <td>M</td>\n",
       "      <td>Chicken</td>\n",
       "      <td>Chicken, Red Onions, Red Peppers, Mushrooms, A...</td>\n",
       "      <td>The Chicken Alfredo Pizza</td>\n",
       "    </tr>\n",
       "    <tr>\n",
       "      <th>48617.0</th>\n",
       "      <td>21348.0</td>\n",
       "      <td>four_cheese_l</td>\n",
       "      <td>1.0</td>\n",
       "      <td>31-12-2015</td>\n",
       "      <td>21:23:10</td>\n",
       "      <td>17.95</td>\n",
       "      <td>17.95</td>\n",
       "      <td>L</td>\n",
       "      <td>Veggie</td>\n",
       "      <td>Ricotta Cheese, Gorgonzola Piccante Cheese, Mo...</td>\n",
       "      <td>The Four Cheese Pizza</td>\n",
       "    </tr>\n",
       "    <tr>\n",
       "      <th>48618.0</th>\n",
       "      <td>21348.0</td>\n",
       "      <td>napolitana_s</td>\n",
       "      <td>1.0</td>\n",
       "      <td>31-12-2015</td>\n",
       "      <td>21:23:10</td>\n",
       "      <td>12.00</td>\n",
       "      <td>12.00</td>\n",
       "      <td>S</td>\n",
       "      <td>Classic</td>\n",
       "      <td>Tomatoes, Anchovies, Green Olives, Red Onions,...</td>\n",
       "      <td>The Napolitana Pizza</td>\n",
       "    </tr>\n",
       "    <tr>\n",
       "      <th>48619.0</th>\n",
       "      <td>21349.0</td>\n",
       "      <td>mexicana_l</td>\n",
       "      <td>1.0</td>\n",
       "      <td>31-12-2015</td>\n",
       "      <td>22:09:54</td>\n",
       "      <td>20.25</td>\n",
       "      <td>20.25</td>\n",
       "      <td>L</td>\n",
       "      <td>Veggie</td>\n",
       "      <td>Tomatoes, Red Peppers, Jalapeno Peppers, Red O...</td>\n",
       "      <td>The Mexicana Pizza</td>\n",
       "    </tr>\n",
       "    <tr>\n",
       "      <th>48620.0</th>\n",
       "      <td>21350.0</td>\n",
       "      <td>bbq_ckn_s</td>\n",
       "      <td>1.0</td>\n",
       "      <td>31-12-2015</td>\n",
       "      <td>23:02:05</td>\n",
       "      <td>12.75</td>\n",
       "      <td>12.75</td>\n",
       "      <td>S</td>\n",
       "      <td>Chicken</td>\n",
       "      <td>Barbecued Chicken, Red Peppers, Green Peppers,...</td>\n",
       "      <td>The Barbecue Chicken Pizza</td>\n",
       "    </tr>\n",
       "  </tbody>\n",
       "</table>\n",
       "<p>48620 rows × 11 columns</p>\n",
       "</div>"
      ],
      "text/plain": [
       "          order_id  pizza_name_id  quantity  order_date order_time  \\\n",
       "pizza_id                                                             \n",
       "1.0            1.0     hawaiian_m       1.0    1/1/2015   11:38:36   \n",
       "2.0            2.0  classic_dlx_m       1.0    1/1/2015   11:57:40   \n",
       "3.0            2.0  five_cheese_l       1.0    1/1/2015   11:57:40   \n",
       "4.0            2.0    ital_supr_l       1.0    1/1/2015   11:57:40   \n",
       "5.0            2.0     mexicana_m       1.0    1/1/2015   11:57:40   \n",
       "...            ...            ...       ...         ...        ...   \n",
       "48616.0    21348.0  ckn_alfredo_m       1.0  31-12-2015   21:23:10   \n",
       "48617.0    21348.0  four_cheese_l       1.0  31-12-2015   21:23:10   \n",
       "48618.0    21348.0   napolitana_s       1.0  31-12-2015   21:23:10   \n",
       "48619.0    21349.0     mexicana_l       1.0  31-12-2015   22:09:54   \n",
       "48620.0    21350.0      bbq_ckn_s       1.0  31-12-2015   23:02:05   \n",
       "\n",
       "          unit_price  total_price pizza_size pizza_category  \\\n",
       "pizza_id                                                      \n",
       "1.0            13.25        13.25          M        Classic   \n",
       "2.0            16.00        16.00          M        Classic   \n",
       "3.0            18.50        18.50          L         Veggie   \n",
       "4.0            20.75        20.75          L        Supreme   \n",
       "5.0            16.00        16.00          M         Veggie   \n",
       "...              ...          ...        ...            ...   \n",
       "48616.0        16.75        16.75          M        Chicken   \n",
       "48617.0        17.95        17.95          L         Veggie   \n",
       "48618.0        12.00        12.00          S        Classic   \n",
       "48619.0        20.25        20.25          L         Veggie   \n",
       "48620.0        12.75        12.75          S        Chicken   \n",
       "\n",
       "                                          pizza_ingredients  \\\n",
       "pizza_id                                                      \n",
       "1.0                Sliced Ham, Pineapple, Mozzarella Cheese   \n",
       "2.0       Pepperoni, Mushrooms, Red Onions, Red Peppers,...   \n",
       "3.0       Mozzarella Cheese, Provolone Cheese, Smoked Go...   \n",
       "4.0       Calabrese Salami, Capocollo, Tomatoes, Red Oni...   \n",
       "5.0       Tomatoes, Red Peppers, Jalapeno Peppers, Red O...   \n",
       "...                                                     ...   \n",
       "48616.0   Chicken, Red Onions, Red Peppers, Mushrooms, A...   \n",
       "48617.0   Ricotta Cheese, Gorgonzola Piccante Cheese, Mo...   \n",
       "48618.0   Tomatoes, Anchovies, Green Olives, Red Onions,...   \n",
       "48619.0   Tomatoes, Red Peppers, Jalapeno Peppers, Red O...   \n",
       "48620.0   Barbecued Chicken, Red Peppers, Green Peppers,...   \n",
       "\n",
       "                          pizza_name  \n",
       "pizza_id                              \n",
       "1.0               The Hawaiian Pizza  \n",
       "2.0         The Classic Deluxe Pizza  \n",
       "3.0            The Five Cheese Pizza  \n",
       "4.0        The Italian Supreme Pizza  \n",
       "5.0               The Mexicana Pizza  \n",
       "...                              ...  \n",
       "48616.0    The Chicken Alfredo Pizza  \n",
       "48617.0        The Four Cheese Pizza  \n",
       "48618.0         The Napolitana Pizza  \n",
       "48619.0           The Mexicana Pizza  \n",
       "48620.0   The Barbecue Chicken Pizza  \n",
       "\n",
       "[48620 rows x 11 columns]"
      ]
     },
     "execution_count": 6,
     "metadata": {},
     "output_type": "execute_result"
    }
   ],
   "source": [
    "pizza_sales"
   ]
  },
  {
   "cell_type": "code",
   "execution_count": 8,
   "id": "f57542d5",
   "metadata": {},
   "outputs": [
    {
     "data": {
      "text/plain": [
       "pizza_id\n",
       "1.0        medium\n",
       "2.0        medium\n",
       "3.0             L\n",
       "4.0             L\n",
       "5.0        medium\n",
       "            ...  \n",
       "48616.0    medium\n",
       "48617.0         L\n",
       "48618.0         S\n",
       "48619.0         L\n",
       "48620.0         S\n",
       "Name: pizza_size, Length: 48620, dtype: object"
      ]
     },
     "execution_count": 8,
     "metadata": {},
     "output_type": "execute_result"
    }
   ],
   "source": [
    "pizza_sales.pizza_size.replace('M', 'medium')"
   ]
  },
  {
   "cell_type": "code",
   "execution_count": null,
   "id": "bc0c197f",
   "metadata": {},
   "outputs": [],
   "source": []
  }
 ],
 "metadata": {
  "kernelspec": {
   "display_name": "Python 3 (ipykernel)",
   "language": "python",
   "name": "python3"
  },
  "language_info": {
   "codemirror_mode": {
    "name": "ipython",
    "version": 3
   },
   "file_extension": ".py",
   "mimetype": "text/x-python",
   "name": "python",
   "nbconvert_exporter": "python",
   "pygments_lexer": "ipython3",
   "version": "3.11.5"
  }
 },
 "nbformat": 4,
 "nbformat_minor": 5
}
