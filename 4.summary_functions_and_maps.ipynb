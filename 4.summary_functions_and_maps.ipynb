{
 "cells": [
  {
   "cell_type": "code",
   "execution_count": 1,
   "id": "1d1fe731",
   "metadata": {},
   "outputs": [],
   "source": [
    "import pandas as pd"
   ]
  },
  {
   "cell_type": "code",
   "execution_count": 2,
   "id": "149045ae",
   "metadata": {},
   "outputs": [],
   "source": [
    "data = pd.read_csv(\"datasets/VideoGameUsage_Profile.csv\")"
   ]
  },
  {
   "cell_type": "code",
   "execution_count": 3,
   "id": "f0a9e3b3",
   "metadata": {},
   "outputs": [
    {
     "data": {
      "text/plain": [
       "count    99.000000\n",
       "mean     23.303030\n",
       "std       1.281378\n",
       "min      21.000000\n",
       "25%      23.000000\n",
       "50%      23.000000\n",
       "75%      24.000000\n",
       "max      27.000000\n",
       "Name: Age, dtype: float64"
      ]
     },
     "execution_count": 3,
     "metadata": {},
     "output_type": "execute_result"
    }
   ],
   "source": [
    "# describe() retorna uma série de estátisticas úteis para a análise\n",
    "data.Age.describe()"
   ]
  },
  {
   "cell_type": "code",
   "execution_count": 4,
   "id": "825ae468",
   "metadata": {},
   "outputs": [
    {
     "data": {
      "text/plain": [
       "array(['Yes', 'sometimes', 'No'], dtype=object)"
      ]
     },
     "execution_count": 4,
     "metadata": {},
     "output_type": "execute_result"
    }
   ],
   "source": [
    "# unique() retorna todas os valores encontrados na coluna sem repeti-los\n",
    "data.play_video_game.unique()"
   ]
  },
  {
   "cell_type": "code",
   "execution_count": 5,
   "id": "52fe5a44",
   "metadata": {
    "scrolled": true
   },
   "outputs": [
    {
     "data": {
      "text/plain": [
       "favorite_game\n",
       "Minecraft            25\n",
       "GTA Vice City        21\n",
       "Call of Duty         15\n",
       "pubg                 11\n",
       "FIFA 22               7\n",
       "Animal Crossing       5\n",
       "Stardew Valley        3\n",
       "League of Legends     3\n",
       "Apex Legends          2\n",
       "Fortnite              2\n",
       "Rocket League         1\n",
       "Among Us              1\n",
       "The Sims              1\n",
       "Mario Kart            1\n",
       "World of Warcraft     1\n",
       "Name: count, dtype: int64"
      ]
     },
     "execution_count": 5,
     "metadata": {},
     "output_type": "execute_result"
    }
   ],
   "source": [
    "data.favorite_game.value_counts()"
   ]
  },
  {
   "cell_type": "code",
   "execution_count": 6,
   "id": "879bd06d",
   "metadata": {},
   "outputs": [],
   "source": [
    "data_age_max = data.Age.max()"
   ]
  },
  {
   "cell_type": "code",
   "execution_count": 7,
   "id": "207abe9e",
   "metadata": {},
   "outputs": [
    {
     "data": {
      "text/plain": [
       "0    -5\n",
       "1    -6\n",
       "2    -4\n",
       "3    -4\n",
       "4    -4\n",
       "     ..\n",
       "94   -6\n",
       "95   -4\n",
       "96   -4\n",
       "97   -4\n",
       "98   -4\n",
       "Name: Age, Length: 99, dtype: int64"
      ]
     },
     "execution_count": 7,
     "metadata": {},
     "output_type": "execute_result"
    }
   ],
   "source": [
    "# Retorna a diferença de idade em relação a maior idade da base de dados\n",
    "data.Age.map(lambda x: x - data_age_max)"
   ]
  },
  {
   "cell_type": "code",
   "execution_count": 8,
   "id": "61ca35b4",
   "metadata": {},
   "outputs": [
    {
     "data": {
      "text/plain": [
       "0           Yes === Yes\n",
       "1           Yes === Yes\n",
       "2           Yes === Yes\n",
       "3     Yes === sometimes\n",
       "4           Yes === Yes\n",
       "            ...        \n",
       "94          Yes === Yes\n",
       "95          Yes === Yes\n",
       "96          Yes === Yes\n",
       "97          Yes === Yes\n",
       "98          Yes === Yes\n",
       "Length: 99, dtype: object"
      ]
     },
     "execution_count": 8,
     "metadata": {},
     "output_type": "execute_result"
    }
   ],
   "source": [
    "data.student + \" === \" + data.play_video_game"
   ]
  },
  {
   "cell_type": "markdown",
   "id": "8263d609",
   "metadata": {},
   "source": [
    "## Diferença entre média e mediana\n",
    "A média de um conjunto de dados é encontrada somando-se todos os números do conjunto de dados e então dividindo o resultado pelo número de valores do conjunto. A mediana é o valor do meio quando o conjunto de dados está ordenado do menor para o maior."
   ]
  },
  {
   "cell_type": "code",
   "execution_count": 9,
   "id": "cf86848f",
   "metadata": {},
   "outputs": [
    {
     "name": "stdout",
     "output_type": "stream",
     "text": [
      "23.303030303030305\n",
      "23.0\n"
     ]
    }
   ],
   "source": [
    "print(data.Age.mean())\n",
    "print(data.Age.median())"
   ]
  },
  {
   "cell_type": "code",
   "execution_count": null,
   "id": "0087591c",
   "metadata": {},
   "outputs": [],
   "source": []
  }
 ],
 "metadata": {
  "kernelspec": {
   "display_name": "Python 3 (ipykernel)",
   "language": "python",
   "name": "python3"
  },
  "language_info": {
   "codemirror_mode": {
    "name": "ipython",
    "version": 3
   },
   "file_extension": ".py",
   "mimetype": "text/x-python",
   "name": "python",
   "nbconvert_exporter": "python",
   "pygments_lexer": "ipython3",
   "version": "3.11.5"
  }
 },
 "nbformat": 4,
 "nbformat_minor": 5
}
