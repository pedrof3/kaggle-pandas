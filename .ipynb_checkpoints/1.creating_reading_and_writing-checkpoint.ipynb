{
 "cells": [
  {
   "cell_type": "code",
   "execution_count": 42,
   "id": "05ba8d4c",
   "metadata": {},
   "outputs": [],
   "source": [
    "import pandas as pd"
   ]
  },
  {
   "cell_type": "markdown",
   "id": "b199e251",
   "metadata": {},
   "source": [
    "## DataFrame"
   ]
  },
  {
   "cell_type": "code",
   "execution_count": 43,
   "id": "dc16f50b",
   "metadata": {},
   "outputs": [
    {
     "data": {
      "text/html": [
       "<div>\n",
       "<style scoped>\n",
       "    .dataframe tbody tr th:only-of-type {\n",
       "        vertical-align: middle;\n",
       "    }\n",
       "\n",
       "    .dataframe tbody tr th {\n",
       "        vertical-align: top;\n",
       "    }\n",
       "\n",
       "    .dataframe thead th {\n",
       "        text-align: right;\n",
       "    }\n",
       "</style>\n",
       "<table border=\"1\" class=\"dataframe\">\n",
       "  <thead>\n",
       "    <tr style=\"text-align: right;\">\n",
       "      <th></th>\n",
       "      <th>Carro</th>\n",
       "      <th>Moto</th>\n",
       "    </tr>\n",
       "  </thead>\n",
       "  <tbody>\n",
       "    <tr>\n",
       "      <th>0</th>\n",
       "      <td>2</td>\n",
       "      <td>3</td>\n",
       "    </tr>\n",
       "    <tr>\n",
       "      <th>1</th>\n",
       "      <td>6</td>\n",
       "      <td>1</td>\n",
       "    </tr>\n",
       "    <tr>\n",
       "      <th>2</th>\n",
       "      <td>7</td>\n",
       "      <td>6</td>\n",
       "    </tr>\n",
       "  </tbody>\n",
       "</table>\n",
       "</div>"
      ],
      "text/plain": [
       "   Carro  Moto\n",
       "0      2     3\n",
       "1      6     1\n",
       "2      7     6"
      ]
     },
     "execution_count": 43,
     "metadata": {},
     "output_type": "execute_result"
    }
   ],
   "source": [
    "pd.DataFrame({'Carro': [2, 6, 7], 'Moto': [3, 1, 6]})"
   ]
  },
  {
   "cell_type": "code",
   "execution_count": 52,
   "id": "919e14c6",
   "metadata": {},
   "outputs": [
    {
     "data": {
      "text/html": [
       "<div>\n",
       "<style scoped>\n",
       "    .dataframe tbody tr th:only-of-type {\n",
       "        vertical-align: middle;\n",
       "    }\n",
       "\n",
       "    .dataframe tbody tr th {\n",
       "        vertical-align: top;\n",
       "    }\n",
       "\n",
       "    .dataframe thead th {\n",
       "        text-align: right;\n",
       "    }\n",
       "</style>\n",
       "<table border=\"1\" class=\"dataframe\">\n",
       "  <thead>\n",
       "    <tr style=\"text-align: right;\">\n",
       "      <th></th>\n",
       "      <th>Manoel</th>\n",
       "      <th>Camila</th>\n",
       "    </tr>\n",
       "  </thead>\n",
       "  <tbody>\n",
       "    <tr>\n",
       "      <th>1</th>\n",
       "      <td>Andar à cavalo</td>\n",
       "      <td>Exercício físico</td>\n",
       "    </tr>\n",
       "    <tr>\n",
       "      <th>2</th>\n",
       "      <td>Ouvir música</td>\n",
       "      <td>Ler romances</td>\n",
       "    </tr>\n",
       "    <tr>\n",
       "      <th>3</th>\n",
       "      <td>Assistir futebol</td>\n",
       "      <td>Pilotar moto</td>\n",
       "    </tr>\n",
       "  </tbody>\n",
       "</table>\n",
       "</div>"
      ],
      "text/plain": [
       "             Manoel            Camila\n",
       "1    Andar à cavalo  Exercício físico\n",
       "2      Ouvir música      Ler romances\n",
       "3  Assistir futebol      Pilotar moto"
      ]
     },
     "execution_count": 52,
     "metadata": {},
     "output_type": "execute_result"
    }
   ],
   "source": [
    "hobbies = pd.DataFrame({'Manoel': ['Andar à cavalo', 'Ouvir música', 'Assistir futebol'], 'Camila': ['Exercício físico', 'Ler romances', 'Pilotar moto']}, index=[1, 2, 3])\n",
    "hobbies"
   ]
  },
  {
   "cell_type": "code",
   "execution_count": 53,
   "id": "f73fa0ff",
   "metadata": {},
   "outputs": [],
   "source": [
    "hobbies.to_csv(\"datasets/hobbies.csv\")"
   ]
  },
  {
   "cell_type": "markdown",
   "id": "59ce217f",
   "metadata": {},
   "source": [
    "## Series"
   ]
  },
  {
   "cell_type": "code",
   "execution_count": 45,
   "id": "a4eb71b0",
   "metadata": {},
   "outputs": [
    {
     "data": {
      "text/plain": [
       "0     0\n",
       "1    10\n",
       "2    20\n",
       "3    30\n",
       "4    40\n",
       "5    50\n",
       "dtype: int64"
      ]
     },
     "execution_count": 45,
     "metadata": {},
     "output_type": "execute_result"
    }
   ],
   "source": [
    "pd.Series(list(range(0, 60, 10)))"
   ]
  },
  {
   "cell_type": "code",
   "execution_count": 46,
   "id": "b6fae409",
   "metadata": {},
   "outputs": [
    {
     "data": {
      "text/plain": [
       "Horas de estudo dia 1    2\n",
       "Horas de estudo dia 2    4\n",
       "Horas de estudo dia 3    1\n",
       "Name: Tempo de estudo diário, dtype: int64"
      ]
     },
     "execution_count": 46,
     "metadata": {},
     "output_type": "execute_result"
    }
   ],
   "source": [
    "pd.Series([2, 4, 1], index=['Horas de estudo dia 1', 'Horas de estudo dia 2', 'Horas de estudo dia 3'], name='Tempo de estudo diário')"
   ]
  },
  {
   "cell_type": "markdown",
   "id": "2827711b",
   "metadata": {},
   "source": [
    "## Reading data files"
   ]
  },
  {
   "cell_type": "code",
   "execution_count": 47,
   "id": "3ebc9eee",
   "metadata": {},
   "outputs": [],
   "source": [
    "file = \"datasets/job_data_merged_1.csv\""
   ]
  },
  {
   "cell_type": "code",
   "execution_count": 48,
   "id": "a7949d37",
   "metadata": {},
   "outputs": [],
   "source": [
    "job_data = pd.read_csv(file, index_col=0)"
   ]
  },
  {
   "cell_type": "code",
   "execution_count": 49,
   "id": "52a2fc46",
   "metadata": {},
   "outputs": [
    {
     "data": {
      "text/plain": [
       "(1095, 5)"
      ]
     },
     "execution_count": 49,
     "metadata": {},
     "output_type": "execute_result"
    }
   ],
   "source": [
    "# Retorna o tamanha da tabela (linhas e colunas)\n",
    "job_data.shape"
   ]
  },
  {
   "cell_type": "code",
   "execution_count": 50,
   "id": "8f4e50a1",
   "metadata": {},
   "outputs": [
    {
     "data": {
      "text/html": [
       "<div>\n",
       "<style scoped>\n",
       "    .dataframe tbody tr th:only-of-type {\n",
       "        vertical-align: middle;\n",
       "    }\n",
       "\n",
       "    .dataframe tbody tr th {\n",
       "        vertical-align: top;\n",
       "    }\n",
       "\n",
       "    .dataframe thead th {\n",
       "        text-align: right;\n",
       "    }\n",
       "</style>\n",
       "<table border=\"1\" class=\"dataframe\">\n",
       "  <thead>\n",
       "    <tr style=\"text-align: right;\">\n",
       "      <th></th>\n",
       "      <th>Category</th>\n",
       "      <th>Workplace</th>\n",
       "      <th>Location</th>\n",
       "      <th>Department</th>\n",
       "      <th>Type</th>\n",
       "    </tr>\n",
       "  </thead>\n",
       "  <tbody>\n",
       "    <tr>\n",
       "      <th>0</th>\n",
       "      <td>Business Analyst</td>\n",
       "      <td>Remote</td>\n",
       "      <td>United Kingdom</td>\n",
       "      <td>Operations</td>\n",
       "      <td>Full time</td>\n",
       "    </tr>\n",
       "    <tr>\n",
       "      <th>1</th>\n",
       "      <td>Business Analyst</td>\n",
       "      <td>Remote</td>\n",
       "      <td>Makati, Metro Manila, Philippines</td>\n",
       "      <td>Aux HQ</td>\n",
       "      <td>Full time</td>\n",
       "    </tr>\n",
       "    <tr>\n",
       "      <th>2</th>\n",
       "      <td>Business Analyst</td>\n",
       "      <td>On-site</td>\n",
       "      <td>Al-Dajeej, Al Farwaniyah Governorate, Kuwait</td>\n",
       "      <td>PWC Technologies</td>\n",
       "      <td>Full time</td>\n",
       "    </tr>\n",
       "    <tr>\n",
       "      <th>3</th>\n",
       "      <td>Business Analyst</td>\n",
       "      <td>On-site</td>\n",
       "      <td>London, England, United Kingdom</td>\n",
       "      <td>Consultants, Advisory</td>\n",
       "      <td>Full time</td>\n",
       "    </tr>\n",
       "    <tr>\n",
       "      <th>4</th>\n",
       "      <td>Business Analyst</td>\n",
       "      <td>Remote</td>\n",
       "      <td>United Kingdom</td>\n",
       "      <td>Operations</td>\n",
       "      <td>Full time</td>\n",
       "    </tr>\n",
       "  </tbody>\n",
       "</table>\n",
       "</div>"
      ],
      "text/plain": [
       "           Category Workplace                                      Location  \\\n",
       "0  Business Analyst    Remote                                United Kingdom   \n",
       "1  Business Analyst    Remote             Makati, Metro Manila, Philippines   \n",
       "2  Business Analyst   On-site  Al-Dajeej, Al Farwaniyah Governorate, Kuwait   \n",
       "3  Business Analyst   On-site               London, England, United Kingdom   \n",
       "4  Business Analyst    Remote                                United Kingdom   \n",
       "\n",
       "              Department       Type  \n",
       "0             Operations  Full time  \n",
       "1                 Aux HQ  Full time  \n",
       "2       PWC Technologies  Full time  \n",
       "3  Consultants, Advisory  Full time  \n",
       "4             Operations  Full time  "
      ]
     },
     "execution_count": 50,
     "metadata": {},
     "output_type": "execute_result"
    }
   ],
   "source": [
    "# Retorna as 5 primeiras linhas de conteúdo da tabela\n",
    "job_data.head()"
   ]
  },
  {
   "cell_type": "code",
   "execution_count": null,
   "id": "d28e9a26",
   "metadata": {},
   "outputs": [],
   "source": []
  }
 ],
 "metadata": {
  "kernelspec": {
   "display_name": "Python 3 (ipykernel)",
   "language": "python",
   "name": "python3"
  },
  "language_info": {
   "codemirror_mode": {
    "name": "ipython",
    "version": 3
   },
   "file_extension": ".py",
   "mimetype": "text/x-python",
   "name": "python",
   "nbconvert_exporter": "python",
   "pygments_lexer": "ipython3",
   "version": "3.11.5"
  }
 },
 "nbformat": 4,
 "nbformat_minor": 5
}
